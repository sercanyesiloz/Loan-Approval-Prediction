{
 "cells": [
  {
   "cell_type": "code",
   "execution_count": 99,
   "metadata": {},
   "outputs": [],
   "source": [
    "import os\n",
    "import gc\n",
    "import optuna\n",
    "import joblib\n",
    "import warnings\n",
    "import itertools\n",
    "import matplotlib\n",
    "import numpy as np\n",
    "import pandas as pd\n",
    "import seaborn as sns\n",
    "import matplotlib.pyplot as plt\n",
    "from sklearn.preprocessing import LabelEncoder\n",
    "from sklearn.model_selection import train_test_split\n",
    "from sklearn.ensemble import RandomForestClassifier\n",
    "from sklearn.metrics import accuracy_score, roc_auc_score, f1_score, confusion_matrix\n",
    "from sklearn.linear_model import LogisticRegression\n",
    "from sklearn.tree import DecisionTreeClassifier\n",
    "\n",
    "import xgboost as xgb\n",
    "import lightgbm as lgb\n",
    "\n",
    "warnings.filterwarnings(\"ignore\")\n",
    "\n",
    "sns.set_style(\"whitegrid\")\n",
    "data_path = \"../datasets/loan_approval_dataset_updated.csv\""
   ]
  },
  {
   "cell_type": "code",
   "execution_count": 100,
   "metadata": {},
   "outputs": [
    {
     "data": {
      "text/html": [
       "<div>\n",
       "<style scoped>\n",
       "    .dataframe tbody tr th:only-of-type {\n",
       "        vertical-align: middle;\n",
       "    }\n",
       "\n",
       "    .dataframe tbody tr th {\n",
       "        vertical-align: top;\n",
       "    }\n",
       "\n",
       "    .dataframe thead th {\n",
       "        text-align: right;\n",
       "    }\n",
       "</style>\n",
       "<table border=\"1\" class=\"dataframe\">\n",
       "  <thead>\n",
       "    <tr style=\"text-align: right;\">\n",
       "      <th></th>\n",
       "      <th>loan_id</th>\n",
       "      <th>no_of_dependents</th>\n",
       "      <th>city</th>\n",
       "      <th>education</th>\n",
       "      <th>self_employed</th>\n",
       "      <th>income_annum</th>\n",
       "      <th>loan_amount</th>\n",
       "      <th>loan_term</th>\n",
       "      <th>cibil_score</th>\n",
       "      <th>residential_assets_value</th>\n",
       "      <th>commercial_assets_value</th>\n",
       "      <th>luxury_assets_value</th>\n",
       "      <th>bank_asset_value</th>\n",
       "      <th>loan_status</th>\n",
       "    </tr>\n",
       "  </thead>\n",
       "  <tbody>\n",
       "    <tr>\n",
       "      <th>0</th>\n",
       "      <td>1</td>\n",
       "      <td>2</td>\n",
       "      <td>Ankara</td>\n",
       "      <td>Graduate</td>\n",
       "      <td>No</td>\n",
       "      <td>9600000</td>\n",
       "      <td>29900000</td>\n",
       "      <td>12</td>\n",
       "      <td>778.0</td>\n",
       "      <td>2400000.0</td>\n",
       "      <td>17600000</td>\n",
       "      <td>22700000</td>\n",
       "      <td>8000000</td>\n",
       "      <td>1</td>\n",
       "    </tr>\n",
       "    <tr>\n",
       "      <th>1</th>\n",
       "      <td>2</td>\n",
       "      <td>0</td>\n",
       "      <td>Ankara</td>\n",
       "      <td>Not Graduate</td>\n",
       "      <td>Yes</td>\n",
       "      <td>4100000</td>\n",
       "      <td>12200000</td>\n",
       "      <td>8</td>\n",
       "      <td>417.0</td>\n",
       "      <td>2700000.0</td>\n",
       "      <td>2200000</td>\n",
       "      <td>8800000</td>\n",
       "      <td>3300000</td>\n",
       "      <td>0</td>\n",
       "    </tr>\n",
       "    <tr>\n",
       "      <th>2</th>\n",
       "      <td>3</td>\n",
       "      <td>3</td>\n",
       "      <td>Ankara</td>\n",
       "      <td>Graduate</td>\n",
       "      <td>No</td>\n",
       "      <td>9100000</td>\n",
       "      <td>29700000</td>\n",
       "      <td>20</td>\n",
       "      <td>NaN</td>\n",
       "      <td>7100000.0</td>\n",
       "      <td>4500000</td>\n",
       "      <td>33300000</td>\n",
       "      <td>12800000</td>\n",
       "      <td>0</td>\n",
       "    </tr>\n",
       "    <tr>\n",
       "      <th>3</th>\n",
       "      <td>4</td>\n",
       "      <td>3</td>\n",
       "      <td>Ankara</td>\n",
       "      <td>Graduate</td>\n",
       "      <td>No</td>\n",
       "      <td>8200000</td>\n",
       "      <td>30700000</td>\n",
       "      <td>8</td>\n",
       "      <td>NaN</td>\n",
       "      <td>18200000.0</td>\n",
       "      <td>3300000</td>\n",
       "      <td>23300000</td>\n",
       "      <td>7900000</td>\n",
       "      <td>0</td>\n",
       "    </tr>\n",
       "    <tr>\n",
       "      <th>4</th>\n",
       "      <td>5</td>\n",
       "      <td>5</td>\n",
       "      <td>Ankara</td>\n",
       "      <td>Not Graduate</td>\n",
       "      <td>Yes</td>\n",
       "      <td>9800000</td>\n",
       "      <td>24200000</td>\n",
       "      <td>20</td>\n",
       "      <td>NaN</td>\n",
       "      <td>12400000.0</td>\n",
       "      <td>8200000</td>\n",
       "      <td>29400000</td>\n",
       "      <td>5000000</td>\n",
       "      <td>0</td>\n",
       "    </tr>\n",
       "  </tbody>\n",
       "</table>\n",
       "</div>"
      ],
      "text/plain": [
       "   loan_id  no_of_dependents    city     education self_employed  \\\n",
       "0        1                 2  Ankara      Graduate            No   \n",
       "1        2                 0  Ankara  Not Graduate           Yes   \n",
       "2        3                 3  Ankara      Graduate            No   \n",
       "3        4                 3  Ankara      Graduate            No   \n",
       "4        5                 5  Ankara  Not Graduate           Yes   \n",
       "\n",
       "   income_annum  loan_amount  loan_term  cibil_score  \\\n",
       "0       9600000     29900000         12        778.0   \n",
       "1       4100000     12200000          8        417.0   \n",
       "2       9100000     29700000         20          NaN   \n",
       "3       8200000     30700000          8          NaN   \n",
       "4       9800000     24200000         20          NaN   \n",
       "\n",
       "   residential_assets_value  commercial_assets_value  luxury_assets_value  \\\n",
       "0                 2400000.0                 17600000             22700000   \n",
       "1                 2700000.0                  2200000              8800000   \n",
       "2                 7100000.0                  4500000             33300000   \n",
       "3                18200000.0                  3300000             23300000   \n",
       "4                12400000.0                  8200000             29400000   \n",
       "\n",
       "   bank_asset_value  loan_status  \n",
       "0           8000000            1  \n",
       "1           3300000            0  \n",
       "2          12800000            0  \n",
       "3           7900000            0  \n",
       "4           5000000            0  "
      ]
     },
     "execution_count": 100,
     "metadata": {},
     "output_type": "execute_result"
    }
   ],
   "source": [
    "df = pd.read_csv(data_path, encoding='latin-1', sep=\";\")\n",
    "\n",
    "df.columns = df.columns.map(lambda x: x.strip().lower())\n",
    "\n",
    "df[\"loan_status\"] = df[\"loan_status\"].apply(lambda x: 1 if x == \" Approved\" else 0)\n",
    "\n",
    "df.loc[df[\"city\"] == \"Ýstanbul\", \"city\"] = \"Istanbul\"\n",
    "df.loc[df[\"city\"] == \"Ýzmir\", \"city\"] = \"Izmir\"\n",
    "\n",
    "df.loc[df[\"education\"] == \" Graduate\", \"education\"] = \"Graduate\"\n",
    "df.loc[df[\"education\"] == \" Not Graduate\", \"education\"] = \"Not Graduate\"\n",
    "\n",
    "df.loc[df[\"self_employed\"] == \" No\", \"self_employed\"] = \"No\"\n",
    "df.loc[df[\"self_employed\"] == \" Yes\", \"self_employed\"] = \"Yes\"\n",
    "\n",
    "df.head()"
   ]
  },
  {
   "cell_type": "code",
   "execution_count": 101,
   "metadata": {},
   "outputs": [
    {
     "data": {
      "text/html": [
       "<div>\n",
       "<style scoped>\n",
       "    .dataframe tbody tr th:only-of-type {\n",
       "        vertical-align: middle;\n",
       "    }\n",
       "\n",
       "    .dataframe tbody tr th {\n",
       "        vertical-align: top;\n",
       "    }\n",
       "\n",
       "    .dataframe thead th {\n",
       "        text-align: right;\n",
       "    }\n",
       "</style>\n",
       "<table border=\"1\" class=\"dataframe\">\n",
       "  <thead>\n",
       "    <tr style=\"text-align: right;\">\n",
       "      <th></th>\n",
       "      <th>loan_id</th>\n",
       "      <th>no_of_dependents</th>\n",
       "      <th>city</th>\n",
       "      <th>education</th>\n",
       "      <th>self_employed</th>\n",
       "      <th>income_annum</th>\n",
       "      <th>loan_amount</th>\n",
       "      <th>loan_term</th>\n",
       "      <th>cibil_score</th>\n",
       "      <th>residential_assets_value</th>\n",
       "      <th>commercial_assets_value</th>\n",
       "      <th>luxury_assets_value</th>\n",
       "      <th>bank_asset_value</th>\n",
       "      <th>loan_status</th>\n",
       "    </tr>\n",
       "  </thead>\n",
       "  <tbody>\n",
       "    <tr>\n",
       "      <th>0</th>\n",
       "      <td>1</td>\n",
       "      <td>2</td>\n",
       "      <td>0</td>\n",
       "      <td>0</td>\n",
       "      <td>0</td>\n",
       "      <td>9600000</td>\n",
       "      <td>29900000</td>\n",
       "      <td>12</td>\n",
       "      <td>778.0</td>\n",
       "      <td>2400000.0</td>\n",
       "      <td>17600000</td>\n",
       "      <td>22700000</td>\n",
       "      <td>8000000</td>\n",
       "      <td>1</td>\n",
       "    </tr>\n",
       "    <tr>\n",
       "      <th>1</th>\n",
       "      <td>2</td>\n",
       "      <td>0</td>\n",
       "      <td>0</td>\n",
       "      <td>1</td>\n",
       "      <td>1</td>\n",
       "      <td>4100000</td>\n",
       "      <td>12200000</td>\n",
       "      <td>8</td>\n",
       "      <td>417.0</td>\n",
       "      <td>2700000.0</td>\n",
       "      <td>2200000</td>\n",
       "      <td>8800000</td>\n",
       "      <td>3300000</td>\n",
       "      <td>0</td>\n",
       "    </tr>\n",
       "    <tr>\n",
       "      <th>2</th>\n",
       "      <td>3</td>\n",
       "      <td>3</td>\n",
       "      <td>0</td>\n",
       "      <td>0</td>\n",
       "      <td>0</td>\n",
       "      <td>9100000</td>\n",
       "      <td>29700000</td>\n",
       "      <td>20</td>\n",
       "      <td>NaN</td>\n",
       "      <td>7100000.0</td>\n",
       "      <td>4500000</td>\n",
       "      <td>33300000</td>\n",
       "      <td>12800000</td>\n",
       "      <td>0</td>\n",
       "    </tr>\n",
       "    <tr>\n",
       "      <th>3</th>\n",
       "      <td>4</td>\n",
       "      <td>3</td>\n",
       "      <td>0</td>\n",
       "      <td>0</td>\n",
       "      <td>0</td>\n",
       "      <td>8200000</td>\n",
       "      <td>30700000</td>\n",
       "      <td>8</td>\n",
       "      <td>NaN</td>\n",
       "      <td>18200000.0</td>\n",
       "      <td>3300000</td>\n",
       "      <td>23300000</td>\n",
       "      <td>7900000</td>\n",
       "      <td>0</td>\n",
       "    </tr>\n",
       "    <tr>\n",
       "      <th>4</th>\n",
       "      <td>5</td>\n",
       "      <td>5</td>\n",
       "      <td>0</td>\n",
       "      <td>1</td>\n",
       "      <td>1</td>\n",
       "      <td>9800000</td>\n",
       "      <td>24200000</td>\n",
       "      <td>20</td>\n",
       "      <td>NaN</td>\n",
       "      <td>12400000.0</td>\n",
       "      <td>8200000</td>\n",
       "      <td>29400000</td>\n",
       "      <td>5000000</td>\n",
       "      <td>0</td>\n",
       "    </tr>\n",
       "  </tbody>\n",
       "</table>\n",
       "</div>"
      ],
      "text/plain": [
       "   loan_id  no_of_dependents  city  education  self_employed  income_annum  \\\n",
       "0        1                 2     0          0              0       9600000   \n",
       "1        2                 0     0          1              1       4100000   \n",
       "2        3                 3     0          0              0       9100000   \n",
       "3        4                 3     0          0              0       8200000   \n",
       "4        5                 5     0          1              1       9800000   \n",
       "\n",
       "   loan_amount  loan_term  cibil_score  residential_assets_value  \\\n",
       "0     29900000         12        778.0                 2400000.0   \n",
       "1     12200000          8        417.0                 2700000.0   \n",
       "2     29700000         20          NaN                 7100000.0   \n",
       "3     30700000          8          NaN                18200000.0   \n",
       "4     24200000         20          NaN                12400000.0   \n",
       "\n",
       "   commercial_assets_value  luxury_assets_value  bank_asset_value  loan_status  \n",
       "0                 17600000             22700000           8000000            1  \n",
       "1                  2200000              8800000           3300000            0  \n",
       "2                  4500000             33300000          12800000            0  \n",
       "3                  3300000             23300000           7900000            0  \n",
       "4                  8200000             29400000           5000000            0  "
      ]
     },
     "execution_count": 101,
     "metadata": {},
     "output_type": "execute_result"
    }
   ],
   "source": [
    "cat_cols = [\"city\", \"education\", \"self_employed\"]\n",
    "\n",
    "for col in cat_cols:\n",
    "    enc = LabelEncoder()\n",
    "    df[col] = enc.fit_transform(df[col])\n",
    "    joblib.dump(enc, f'../models/label_encoder_{col}.pkl')\n",
    "\n",
    "df.head()"
   ]
  },
  {
   "cell_type": "code",
   "execution_count": 102,
   "metadata": {},
   "outputs": [],
   "source": [
    "input_cols = [\n",
    " 'no_of_dependents',\n",
    " 'city',\n",
    " 'education',\n",
    " 'self_employed',\n",
    " 'income_annum',\n",
    " 'loan_amount',\n",
    " 'loan_term',\n",
    " 'cibil_score',\n",
    " 'residential_assets_value',\n",
    " 'commercial_assets_value',\n",
    " 'luxury_assets_value',\n",
    " 'bank_asset_value']\n",
    "\n",
    "target = \"loan_status\""
   ]
  },
  {
   "cell_type": "code",
   "execution_count": 103,
   "metadata": {},
   "outputs": [],
   "source": [
    "df.iloc[0:1][input_cols].to_csv(\"../datasets/approved.csv\", index=False)"
   ]
  },
  {
   "cell_type": "markdown",
   "metadata": {},
   "source": [
    "## Train-Test Holdout"
   ]
  },
  {
   "cell_type": "code",
   "execution_count": 104,
   "metadata": {},
   "outputs": [
    {
     "name": "stdout",
     "output_type": "stream",
     "text": [
      "X_train: (3842, 12)\n",
      "X_val: (427, 12)\n",
      "y_train: (3842,)\n",
      "y_val: (427,)\n"
     ]
    }
   ],
   "source": [
    "X = df[input_cols]\n",
    "y = df[target]\n",
    "\n",
    "X_train, X_val, y_train, y_val = train_test_split(X, y, test_size=0.1, random_state=42)\n",
    "\n",
    "print(f\"X_train: {X_train.shape}\")\n",
    "print(f\"X_val: {X_val.shape}\")\n",
    "print(f\"y_train: {y_train.shape}\")\n",
    "print(f\"y_val: {y_val.shape}\")"
   ]
  },
  {
   "cell_type": "markdown",
   "metadata": {},
   "source": [
    "## Base Models"
   ]
  },
  {
   "cell_type": "code",
   "execution_count": 94,
   "metadata": {},
   "outputs": [
    {
     "data": {
      "text/html": [
       "<div>\n",
       "<style scoped>\n",
       "    .dataframe tbody tr th:only-of-type {\n",
       "        vertical-align: middle;\n",
       "    }\n",
       "\n",
       "    .dataframe tbody tr th {\n",
       "        vertical-align: top;\n",
       "    }\n",
       "\n",
       "    .dataframe thead th {\n",
       "        text-align: right;\n",
       "    }\n",
       "</style>\n",
       "<table border=\"1\" class=\"dataframe\">\n",
       "  <thead>\n",
       "    <tr style=\"text-align: right;\">\n",
       "      <th></th>\n",
       "      <th>model</th>\n",
       "      <th>accuracy</th>\n",
       "      <th>roc_auc</th>\n",
       "      <th>f1</th>\n",
       "    </tr>\n",
       "  </thead>\n",
       "  <tbody>\n",
       "    <tr>\n",
       "      <th>0</th>\n",
       "      <td>XGBClassifier</td>\n",
       "      <td>0.955504</td>\n",
       "      <td>0.989357</td>\n",
       "      <td>0.964618</td>\n",
       "    </tr>\n",
       "    <tr>\n",
       "      <th>1</th>\n",
       "      <td>LGBMClassifier</td>\n",
       "      <td>0.948478</td>\n",
       "      <td>0.986533</td>\n",
       "      <td>0.959108</td>\n",
       "    </tr>\n",
       "    <tr>\n",
       "      <th>2</th>\n",
       "      <td>RandomForestClassifier</td>\n",
       "      <td>0.941452</td>\n",
       "      <td>0.984175</td>\n",
       "      <td>0.954128</td>\n",
       "    </tr>\n",
       "    <tr>\n",
       "      <th>3</th>\n",
       "      <td>DecisionTreeClassifier</td>\n",
       "      <td>0.941452</td>\n",
       "      <td>0.935048</td>\n",
       "      <td>0.953096</td>\n",
       "    </tr>\n",
       "  </tbody>\n",
       "</table>\n",
       "</div>"
      ],
      "text/plain": [
       "                    model  accuracy   roc_auc        f1\n",
       "0           XGBClassifier  0.955504  0.989357  0.964618\n",
       "1          LGBMClassifier  0.948478  0.986533  0.959108\n",
       "2  RandomForestClassifier  0.941452  0.984175  0.954128\n",
       "3  DecisionTreeClassifier  0.941452  0.935048  0.953096"
      ]
     },
     "execution_count": 94,
     "metadata": {},
     "output_type": "execute_result"
    }
   ],
   "source": [
    "base_models = [\n",
    "    RandomForestClassifier(n_estimators=100, max_depth=4),\n",
    "    DecisionTreeClassifier(criterion=\"gini\"),\n",
    "    lgb.LGBMClassifier(n_estimators=70, max_depth=4, verbose=-2),\n",
    "    xgb.XGBClassifier(n_estimators=70, max_depth=4),\n",
    "]\n",
    "\n",
    "base_df = pd.DataFrame()\n",
    "\n",
    "for model in base_models:\n",
    "    model.fit(X_train, y_train)\n",
    "    \n",
    "    val_pred = model.predict(X_val)\n",
    "    val_pred_proba = model.predict_proba(X_val)\n",
    "\n",
    "    val_acc = accuracy_score(y_val, val_pred)\n",
    "    val_auc = roc_auc_score(y_val, val_pred_proba[:, 1])\n",
    "    val_f1 = f1_score(y_val, val_pred)\n",
    "\n",
    "    base_df = pd.concat([base_df, pd.DataFrame({\"model\": [model.__class__.__name__], \"accuracy\": [val_acc], \"roc_auc\": [val_auc], \"f1\": [val_f1]})], axis=0)\n",
    "\n",
    "base_df=base_df.sort_values(\"accuracy\", ascending=False).reset_index(drop=True)\n",
    "base_df.head()"
   ]
  },
  {
   "cell_type": "code",
   "execution_count": 95,
   "metadata": {},
   "outputs": [
    {
     "data": {
      "image/png": "[encoded data removed]",
      "text/plain": [
       "<Figure size 1200x600 with 1 Axes>"
      ]
     },
     "metadata": {},
     "output_type": "display_data"
    }
   ],
   "source": [
    "plt.figure(figsize=(12, 6))\n",
    "\n",
    "sns.barplot(data=base_df, y=\"model\", x=\"accuracy\", palette=\"Reds\")\n",
    "\n",
    "plt.title(\"Accuracy Score of Base Models\", size=12)\n",
    "\n",
    "plt.tight_layout()\n",
    "\n",
    "plt.savefig(\"../images/base_model_accuracy.jpg\", dpi=500)\n",
    "\n",
    "plt.show()"
   ]
  },
  {
   "cell_type": "code",
   "execution_count": 96,
   "metadata": {},
   "outputs": [
    {
     "data": {
      "image/png": "[encoded data removed]",
      "text/plain": [
       "<Figure size 1200x600 with 1 Axes>"
      ]
     },
     "metadata": {},
     "output_type": "display_data"
    }
   ],
   "source": [
    "plt.figure(figsize=(12, 6))\n",
    "\n",
    "sns.barplot(data=base_df, y=\"model\", x=\"f1\", palette=\"Blues\")\n",
    "\n",
    "plt.title(\"F1-Score of Base Models\", size=12)\n",
    "\n",
    "plt.tight_layout()\n",
    "\n",
    "plt.savefig(\"../images/base_model_f1.jpg\", dpi=500)\n",
    "\n",
    "plt.show()"
   ]
  },
  {
   "cell_type": "markdown",
   "metadata": {},
   "source": [
    "## HyperParameter Tuning with Optuna"
   ]
  },
  {
   "cell_type": "code",
   "execution_count": 25,
   "metadata": {},
   "outputs": [],
   "source": [
    "def objective(trial):\n",
    "\n",
    "    params = {\n",
    "        \"max_depth\": trial.suggest_int(\"max_depth\", 4, 7),\n",
    "        \"learning_rate\": trial.suggest_float(\"learning_rate\", 0.035, 0.055),\n",
    "        \"subsample\": trial.suggest_float(\"subsample\", 0.5, 1.0),\n",
    "        \"min_child_weight\": trial.suggest_int(\"min_child_weight\", 1, 10),\n",
    "        \"colsample_bytree\": trial.suggest_float(\"colsample_bytree\", 0.5, 1.0),\n",
    "\n",
    "    }\n",
    "\n",
    "    params[\"random_state\"] = 42\n",
    "\n",
    "    trial_model = xgb.XGBClassifier(**params)\n",
    "    trial_model.fit(X_train, y_train)\n",
    "    \n",
    "    val_pred = trial_model.predict(X_val)\n",
    "    val_pred_proba = trial_model.predict_proba(X_val)\n",
    "    val_f1 = f1_score(y_val, val_pred)\n",
    "\n",
    "    del trial_model\n",
    "    _ = gc.collect()\n",
    "\n",
    "    return val_f1"
   ]
  },
  {
   "cell_type": "code",
   "execution_count": 26,
   "metadata": {},
   "outputs": [
    {
     "name": "stderr",
     "output_type": "stream",
     "text": [
      "[I 2024-07-21 20:41:10,905] A new study created in memory with name: no-name-6eb39d7d-c998-4cfe-9d2a-b050a6a67b90\n",
      "[I 2024-07-21 20:41:11,141] Trial 0 finished with value: 0.9644859813084112 and parameters: {'max_depth': 5, 'learning_rate': 0.050633164443006695, 'subsample': 0.7856196589897828, 'min_child_weight': 10, 'colsample_bytree': 0.5146608635881396}. Best is trial 0 with value: 0.9644859813084112.\n",
      "[I 2024-07-21 20:41:11,331] Trial 1 finished with value: 0.9608938547486033 and parameters: {'max_depth': 6, 'learning_rate': 0.04530644187677606, 'subsample': 0.6153653415552105, 'min_child_weight': 3, 'colsample_bytree': 0.7524899905404057}. Best is trial 0 with value: 0.9644859813084112.\n",
      "[I 2024-07-21 20:41:11,547] Trial 2 finished with value: 0.943609022556391 and parameters: {'max_depth': 5, 'learning_rate': 0.03718261158427626, 'subsample': 0.5113627391157707, 'min_child_weight': 2, 'colsample_bytree': 0.5046331655369383}. Best is trial 0 with value: 0.9644859813084112.\n",
      "[I 2024-07-21 20:41:11,739] Trial 3 finished with value: 0.9646182495344506 and parameters: {'max_depth': 6, 'learning_rate': 0.04836318827339607, 'subsample': 0.6762594239485114, 'min_child_weight': 6, 'colsample_bytree': 0.5932296692048491}. Best is trial 3 with value: 0.9646182495344506.\n",
      "[I 2024-07-21 20:41:11,952] Trial 4 finished with value: 0.9552238805970149 and parameters: {'max_depth': 5, 'learning_rate': 0.04615504727102527, 'subsample': 0.5667532308982983, 'min_child_weight': 7, 'colsample_bytree': 0.6002575753802946}. Best is trial 3 with value: 0.9646182495344506.\n",
      "[I 2024-07-21 20:41:12,133] Trial 5 finished with value: 0.9683426443202979 and parameters: {'max_depth': 5, 'learning_rate': 0.03966686071187731, 'subsample': 0.904550918420816, 'min_child_weight': 2, 'colsample_bytree': 0.6450962153180433}. Best is trial 5 with value: 0.9683426443202979.\n",
      "[I 2024-07-21 20:41:12,362] Trial 6 finished with value: 0.961038961038961 and parameters: {'max_depth': 4, 'learning_rate': 0.04794331587562754, 'subsample': 0.5953748141694815, 'min_child_weight': 2, 'colsample_bytree': 0.6689447949662113}. Best is trial 5 with value: 0.9683426443202979.\n",
      "[I 2024-07-21 20:41:12,550] Trial 7 finished with value: 0.957169459962756 and parameters: {'max_depth': 4, 'learning_rate': 0.04363035807476458, 'subsample': 0.9647400750538309, 'min_child_weight': 2, 'colsample_bytree': 0.6347438874244524}. Best is trial 5 with value: 0.9683426443202979.\n",
      "[I 2024-07-21 20:41:12,840] Trial 8 finished with value: 0.9684601113172542 and parameters: {'max_depth': 7, 'learning_rate': 0.04214516436038744, 'subsample': 0.5945489882275804, 'min_child_weight': 3, 'colsample_bytree': 0.7445755872719781}. Best is trial 8 with value: 0.9684601113172542.\n",
      "[I 2024-07-21 20:41:13,014] Trial 9 finished with value: 0.9570093457943926 and parameters: {'max_depth': 5, 'learning_rate': 0.05457561155808772, 'subsample': 0.5680324992102928, 'min_child_weight': 8, 'colsample_bytree': 0.5557115058907055}. Best is trial 8 with value: 0.9684601113172542.\n"
     ]
    },
    {
     "name": "stdout",
     "output_type": "stream",
     "text": [
      "best score: 0.9684601113172542\n",
      "best params: {'max_depth': 7, 'learning_rate': 0.04214516436038744, 'subsample': 0.5945489882275804, 'min_child_weight': 3, 'colsample_bytree': 0.7445755872719781}\n"
     ]
    }
   ],
   "source": [
    "study = optuna.create_study(direction='maximize')\n",
    "study.optimize(objective, n_trials=10)\n",
    "\n",
    "best_value = study.best_value\n",
    "best_params = study.best_params\n",
    "\n",
    "print(f\"best score: {best_value}\")\n",
    "print(f\"best params: {best_params}\")"
   ]
  },
  {
   "cell_type": "code",
   "execution_count": 29,
   "metadata": {},
   "outputs": [
    {
     "name": "stdout",
     "output_type": "stream",
     "text": [
      "best model val_acc: 0.96019\n",
      "best model val_auc: 0.99054\n",
      "best model val_f1: 0.96846\n"
     ]
    }
   ],
   "source": [
    "best_params[\"random_state\"] = 42\n",
    "\n",
    "best_model = xgb.XGBClassifier(**best_params)\n",
    "\n",
    "best_model.fit(X_train, y_train)\n",
    "\n",
    "val_pred = best_model.predict(X_val)\n",
    "val_pred_proba = best_model.predict_proba(X_val)\n",
    "\n",
    "val_acc = accuracy_score(y_val, val_pred)\n",
    "val_auc = roc_auc_score(y_val, val_pred_proba[:, 1])\n",
    "val_f1 = f1_score(y_val, val_pred)\n",
    "\n",
    "print(f\"best model val_acc: {val_acc:.5f}\")\n",
    "print(f\"best model val_auc: {val_auc:.5f}\")\n",
    "print(f\"best model val_f1: {val_f1:.5f}\")"
   ]
  },
  {
   "cell_type": "code",
   "execution_count": 107,
   "metadata": {},
   "outputs": [
    {
     "data": {
      "image/png": "[encoded data removed]",
      "text/plain": [
       "<Figure size 1200x1000 with 1 Axes>"
      ]
     },
     "metadata": {},
     "output_type": "display_data"
    }
   ],
   "source": [
    "feat_imp_df = pd.DataFrame({\"feature\": X_train.columns.tolist(), f\"importance\": best_model.feature_importances_}).sort_values(\"importance\", ascending=False)\n",
    "\n",
    "plt.figure(figsize=(12, 10))\n",
    "\n",
    "sns.barplot(\n",
    "    data=feat_imp_df,\n",
    "    x=\"importance\",\n",
    "    y=\"feature\",\n",
    "    color=\"royalblue\",\n",
    "    width=0.75\n",
    "    )\n",
    "\n",
    "plt.title(\"Feature Importances\", size=12)\n",
    "\n",
    "plt.tight_layout()\n",
    "\n",
    "plt.savefig(\"../images/feature_importances.jpg\", dpi=500)\n",
    "\n",
    "plt.show()"
   ]
  },
  {
   "cell_type": "code",
   "execution_count": 41,
   "metadata": {},
   "outputs": [],
   "source": [
    "def plot_confusion_matrix(\n",
    "    cm, classes, title: str, save_path=None, dpi: int = 500\n",
    ") -> None:\n",
    "\n",
    "    plt.imshow(cm, interpolation=\"nearest\", cmap=\"Blues\")\n",
    "    plt.title(title, size=12)\n",
    "    plt.colorbar()\n",
    "    tick_marks = np.arange(len(classes))\n",
    "    plt.xticks(tick_marks, classes, rotation=45)\n",
    "    plt.yticks(tick_marks, classes)\n",
    "    thresh = cm.max() / 2.0\n",
    "    for i, j in itertools.product(range(cm.shape[0]), range(cm.shape[1])):\n",
    "        plt.text(\n",
    "            j,\n",
    "            i,\n",
    "            format(cm[i, j], \".0f\"),\n",
    "            horizontalalignment=\"center\",\n",
    "            color=\"white\" if cm[i, j] > thresh else \"black\",\n",
    "        )\n",
    "    plt.tight_layout()\n",
    "    plt.ylabel(\"True label\")\n",
    "    plt.xlabel(\"Predicted label\")\n",
    "    plt.grid(False)\n",
    "    if save_path is not None:\n",
    "        plt.savefig(save_path, dpi=dpi)\n",
    "    plt.show()\n"
   ]
  },
  {
   "cell_type": "code",
   "execution_count": 42,
   "metadata": {},
   "outputs": [
    {
     "data": {
      "image/png": "[encoded data removed]",
      "text/plain": [
       "<Figure size 640x480 with 2 Axes>"
      ]
     },
     "metadata": {},
     "output_type": "display_data"
    }
   ],
   "source": [
    "cm = confusion_matrix(y_val, val_pred)\n",
    "\n",
    "plot_confusion_matrix(cm, classes=[\"Rejected\", \"Approved\"], title=\"Best Model Confusion Matrix\", save_path=\"../images/best_model_cm.jpg\", dpi=500)"
   ]
  },
  {
   "cell_type": "markdown",
   "metadata": {},
   "source": [
    "## Saving Best Model"
   ]
  },
  {
   "cell_type": "code",
   "execution_count": 30,
   "metadata": {},
   "outputs": [
    {
     "data": {
      "text/plain": [
       "['../models/model.pkl']"
      ]
     },
     "execution_count": 30,
     "metadata": {},
     "output_type": "execute_result"
    }
   ],
   "source": [
    "joblib.dump(best_model, '../models/model.pkl')"
   ]
  }
 ],
 "metadata": {
  "kernelspec": {
   "display_name": "myconda",
   "language": "python",
   "name": "python3"
  },
  "language_info": {
   "codemirror_mode": {
    "name": "ipython",
    "version": 3
   },
   "file_extension": ".py",
   "mimetype": "text/x-python",
   "name": "python",
   "nbconvert_exporter": "python",
   "pygments_lexer": "ipython3",
   "version": "3.12.4"
  }
 },
 "nbformat": 4,
 "nbformat_minor": 2
}
